{
 "cells": [
  {
   "cell_type": "markdown",
   "id": "2a52fd56",
   "metadata": {
    "papermill": {
     "duration": 0.008416,
     "end_time": "2024-09-14T14:46:37.726344",
     "exception": false,
     "start_time": "2024-09-14T14:46:37.717928",
     "status": "completed"
    },
    "tags": []
   },
   "source": [
    "## Goal\n",
    "\n",
    "The objective of this dataset is to predict the medical condition (Cancer, Pneumonia, Diabetic) of a user based on their demographic, lifestyle, and health-related features. This dataset can be used to explore strategies for dealing with imbalanced classes and missing data in healthcare applications. ​"
   ]
  },
  {
   "cell_type": "markdown",
   "id": "0323a6fa",
   "metadata": {
    "papermill": {
     "duration": 0.00986,
     "end_time": "2024-09-14T14:46:37.744133",
     "exception": false,
     "start_time": "2024-09-14T14:46:37.734273",
     "status": "completed"
    },
    "tags": []
   },
   "source": [
    "## Importing Libraries"
   ]
  },
  {
   "cell_type": "code",
   "execution_count": 1,
   "id": "6ef0df14",
   "metadata": {
    "execution": {
     "iopub.execute_input": "2024-09-14T14:46:37.761751Z",
     "iopub.status.busy": "2024-09-14T14:46:37.761309Z",
     "iopub.status.idle": "2024-09-14T14:46:40.295487Z",
     "shell.execute_reply": "2024-09-14T14:46:40.294038Z"
    },
    "papermill": {
     "duration": 2.546314,
     "end_time": "2024-09-14T14:46:40.298405",
     "exception": false,
     "start_time": "2024-09-14T14:46:37.752091",
     "status": "completed"
    },
    "tags": []
   },
   "outputs": [],
   "source": [
    "import pandas as pd\n",
    "import numpy as np\n",
    "import matplotlib.pyplot as plt\n",
    "import seaborn as sns\n",
    "from sklearn.impute import KNNImputer, SimpleImputer"
   ]
  },
  {
   "cell_type": "code",
   "execution_count": 2,
   "id": "a7550305",
   "metadata": {
    "execution": {
     "iopub.execute_input": "2024-09-14T14:46:40.316388Z",
     "iopub.status.busy": "2024-09-14T14:46:40.315730Z",
     "iopub.status.idle": "2024-09-14T14:46:40.365633Z",
     "shell.execute_reply": "2024-09-14T14:46:40.364473Z"
    },
    "papermill": {
     "duration": 0.062122,
     "end_time": "2024-09-14T14:46:40.368506",
     "exception": false,
     "start_time": "2024-09-14T14:46:40.306384",
     "status": "completed"
    },
    "tags": []
   },
   "outputs": [],
   "source": [
    "df = pd.read_csv(\"/kaggle/input/medical-condition-prediction-dataset/medical_conditions_dataset.csv\")"
   ]
  },
  {
   "cell_type": "markdown",
   "id": "1463b117",
   "metadata": {
    "papermill": {
     "duration": 0.007624,
     "end_time": "2024-09-14T14:46:40.384006",
     "exception": false,
     "start_time": "2024-09-14T14:46:40.376382",
     "status": "completed"
    },
    "tags": []
   },
   "source": [
    "## Features\n",
    "\n",
    "id: Unique identifier for each user.\n",
    "full_name: Randomly generated user name.\n",
    "age: Age of the user (ranging from 18 to 90 years), with some missing values.\n",
    "gender: The gender of the user (categorized as Male, Female, or Non-Binary).\n",
    "smoking_status: Indicates the smoking status of the user (Smoker, Non-Smoker, Former-Smoker).\n",
    "bmi: Body Mass Index (BMI) of the user (ranging from 15 to 40), with some missing values.\n",
    "blood_pressure: Blood pressure levels of the user (ranging from 90 to 180 mmHg), with some missing values.\n",
    "glucose_levels: Blood glucose levels of the user (ranging from 70 to 200 mg/dL), with some missing values.\n",
    "condition: The target label indicating the medical condition of the user (Cancer, Pneumonia, or Diabetic), with imbalanced distribution (15% Cancer, 25% Pneumonia, 60% Diabetic)."
   ]
  },
  {
   "cell_type": "code",
   "execution_count": 3,
   "id": "cf5af84f",
   "metadata": {
    "execution": {
     "iopub.execute_input": "2024-09-14T14:46:40.401319Z",
     "iopub.status.busy": "2024-09-14T14:46:40.400865Z",
     "iopub.status.idle": "2024-09-14T14:46:40.431875Z",
     "shell.execute_reply": "2024-09-14T14:46:40.430753Z"
    },
    "papermill": {
     "duration": 0.042799,
     "end_time": "2024-09-14T14:46:40.434521",
     "exception": false,
     "start_time": "2024-09-14T14:46:40.391722",
     "status": "completed"
    },
    "tags": []
   },
   "outputs": [
    {
     "data": {
      "text/html": [
       "<div>\n",
       "<style scoped>\n",
       "    .dataframe tbody tr th:only-of-type {\n",
       "        vertical-align: middle;\n",
       "    }\n",
       "\n",
       "    .dataframe tbody tr th {\n",
       "        vertical-align: top;\n",
       "    }\n",
       "\n",
       "    .dataframe thead th {\n",
       "        text-align: right;\n",
       "    }\n",
       "</style>\n",
       "<table border=\"1\" class=\"dataframe\">\n",
       "  <thead>\n",
       "    <tr style=\"text-align: right;\">\n",
       "      <th></th>\n",
       "      <th>id</th>\n",
       "      <th>full_name</th>\n",
       "      <th>age</th>\n",
       "      <th>gender</th>\n",
       "      <th>smoking_status</th>\n",
       "      <th>bmi</th>\n",
       "      <th>blood_pressure</th>\n",
       "      <th>glucose_levels</th>\n",
       "      <th>condition</th>\n",
       "    </tr>\n",
       "  </thead>\n",
       "  <tbody>\n",
       "    <tr>\n",
       "      <th>0</th>\n",
       "      <td>1</td>\n",
       "      <td>User0001</td>\n",
       "      <td>NaN</td>\n",
       "      <td>male</td>\n",
       "      <td>Non-Smoker</td>\n",
       "      <td>NaN</td>\n",
       "      <td>NaN</td>\n",
       "      <td>NaN</td>\n",
       "      <td>Pneumonia</td>\n",
       "    </tr>\n",
       "    <tr>\n",
       "      <th>1</th>\n",
       "      <td>2</td>\n",
       "      <td>User0002</td>\n",
       "      <td>30.0</td>\n",
       "      <td>male</td>\n",
       "      <td>Non-Smoker</td>\n",
       "      <td>NaN</td>\n",
       "      <td>105.315064</td>\n",
       "      <td>NaN</td>\n",
       "      <td>Diabetic</td>\n",
       "    </tr>\n",
       "    <tr>\n",
       "      <th>2</th>\n",
       "      <td>3</td>\n",
       "      <td>User0003</td>\n",
       "      <td>18.0</td>\n",
       "      <td>male</td>\n",
       "      <td>Non-Smoker</td>\n",
       "      <td>35.612486</td>\n",
       "      <td>NaN</td>\n",
       "      <td>NaN</td>\n",
       "      <td>Pneumonia</td>\n",
       "    </tr>\n",
       "    <tr>\n",
       "      <th>3</th>\n",
       "      <td>4</td>\n",
       "      <td>User0004</td>\n",
       "      <td>NaN</td>\n",
       "      <td>male</td>\n",
       "      <td>Non-Smoker</td>\n",
       "      <td>NaN</td>\n",
       "      <td>99.119829</td>\n",
       "      <td>NaN</td>\n",
       "      <td>Pneumonia</td>\n",
       "    </tr>\n",
       "    <tr>\n",
       "      <th>4</th>\n",
       "      <td>5</td>\n",
       "      <td>User0005</td>\n",
       "      <td>76.0</td>\n",
       "      <td>male</td>\n",
       "      <td>Non-Smoker</td>\n",
       "      <td>NaN</td>\n",
       "      <td>NaN</td>\n",
       "      <td>NaN</td>\n",
       "      <td>Diabetic</td>\n",
       "    </tr>\n",
       "  </tbody>\n",
       "</table>\n",
       "</div>"
      ],
      "text/plain": [
       "   id full_name   age gender smoking_status        bmi  blood_pressure  \\\n",
       "0   1  User0001   NaN   male     Non-Smoker        NaN             NaN   \n",
       "1   2  User0002  30.0   male     Non-Smoker        NaN      105.315064   \n",
       "2   3  User0003  18.0   male     Non-Smoker  35.612486             NaN   \n",
       "3   4  User0004   NaN   male     Non-Smoker        NaN       99.119829   \n",
       "4   5  User0005  76.0   male     Non-Smoker        NaN             NaN   \n",
       "\n",
       "   glucose_levels  condition  \n",
       "0             NaN  Pneumonia  \n",
       "1             NaN   Diabetic  \n",
       "2             NaN  Pneumonia  \n",
       "3             NaN  Pneumonia  \n",
       "4             NaN   Diabetic  "
      ]
     },
     "execution_count": 3,
     "metadata": {},
     "output_type": "execute_result"
    }
   ],
   "source": [
    "df.head()"
   ]
  },
  {
   "cell_type": "code",
   "execution_count": 4,
   "id": "777a4274",
   "metadata": {
    "execution": {
     "iopub.execute_input": "2024-09-14T14:46:40.453054Z",
     "iopub.status.busy": "2024-09-14T14:46:40.452591Z",
     "iopub.status.idle": "2024-09-14T14:46:40.458744Z",
     "shell.execute_reply": "2024-09-14T14:46:40.457662Z"
    },
    "papermill": {
     "duration": 0.018903,
     "end_time": "2024-09-14T14:46:40.461524",
     "exception": false,
     "start_time": "2024-09-14T14:46:40.442621",
     "status": "completed"
    },
    "tags": []
   },
   "outputs": [
    {
     "name": "stdout",
     "output_type": "stream",
     "text": [
      "The size of the df: (10000, 9)\n"
     ]
    }
   ],
   "source": [
    "print(f\"The size of the df: {df.shape}\")"
   ]
  },
  {
   "cell_type": "code",
   "execution_count": 5,
   "id": "0df56894",
   "metadata": {
    "execution": {
     "iopub.execute_input": "2024-09-14T14:46:40.479878Z",
     "iopub.status.busy": "2024-09-14T14:46:40.479401Z",
     "iopub.status.idle": "2024-09-14T14:46:40.508309Z",
     "shell.execute_reply": "2024-09-14T14:46:40.507047Z"
    },
    "papermill": {
     "duration": 0.041227,
     "end_time": "2024-09-14T14:46:40.511051",
     "exception": false,
     "start_time": "2024-09-14T14:46:40.469824",
     "status": "completed"
    },
    "tags": []
   },
   "outputs": [
    {
     "name": "stdout",
     "output_type": "stream",
     "text": [
      "<class 'pandas.core.frame.DataFrame'>\n",
      "RangeIndex: 10000 entries, 0 to 9999\n",
      "Data columns (total 9 columns):\n",
      " #   Column          Non-Null Count  Dtype  \n",
      "---  ------          --------------  -----  \n",
      " 0   id              10000 non-null  int64  \n",
      " 1   full_name       10000 non-null  object \n",
      " 2   age             5445 non-null   float64\n",
      " 3   gender          10000 non-null  object \n",
      " 4   smoking_status  10000 non-null  object \n",
      " 5   bmi             4652 non-null   float64\n",
      " 6   blood_pressure  3766 non-null   float64\n",
      " 7   glucose_levels  4756 non-null   float64\n",
      " 8   condition       10000 non-null  object \n",
      "dtypes: float64(4), int64(1), object(4)\n",
      "memory usage: 703.2+ KB\n"
     ]
    }
   ],
   "source": [
    "df.info()"
   ]
  },
  {
   "cell_type": "code",
   "execution_count": 6,
   "id": "c36132e0",
   "metadata": {
    "execution": {
     "iopub.execute_input": "2024-09-14T14:46:40.530127Z",
     "iopub.status.busy": "2024-09-14T14:46:40.529664Z",
     "iopub.status.idle": "2024-09-14T14:46:40.540763Z",
     "shell.execute_reply": "2024-09-14T14:46:40.539643Z"
    },
    "papermill": {
     "duration": 0.023665,
     "end_time": "2024-09-14T14:46:40.543200",
     "exception": false,
     "start_time": "2024-09-14T14:46:40.519535",
     "status": "completed"
    },
    "tags": []
   },
   "outputs": [
    {
     "data": {
      "text/plain": [
       "gender\n",
       "male      0.8506\n",
       "female    0.1494\n",
       "Name: proportion, dtype: float64"
      ]
     },
     "execution_count": 6,
     "metadata": {},
     "output_type": "execute_result"
    }
   ],
   "source": [
    "df['gender'].value_counts(normalize=True)"
   ]
  },
  {
   "cell_type": "code",
   "execution_count": 7,
   "id": "d5150a4c",
   "metadata": {
    "execution": {
     "iopub.execute_input": "2024-09-14T14:46:40.562419Z",
     "iopub.status.busy": "2024-09-14T14:46:40.561566Z",
     "iopub.status.idle": "2024-09-14T14:46:40.572980Z",
     "shell.execute_reply": "2024-09-14T14:46:40.571816Z"
    },
    "papermill": {
     "duration": 0.02376,
     "end_time": "2024-09-14T14:46:40.575469",
     "exception": false,
     "start_time": "2024-09-14T14:46:40.551709",
     "status": "completed"
    },
    "tags": []
   },
   "outputs": [
    {
     "data": {
      "text/plain": [
       "smoking_status\n",
       "Non-Smoker    0.9014\n",
       "Smoker        0.0986\n",
       "Name: proportion, dtype: float64"
      ]
     },
     "execution_count": 7,
     "metadata": {},
     "output_type": "execute_result"
    }
   ],
   "source": [
    "df['smoking_status'].value_counts(normalize=True)"
   ]
  },
  {
   "cell_type": "code",
   "execution_count": 8,
   "id": "0a60cefb",
   "metadata": {
    "execution": {
     "iopub.execute_input": "2024-09-14T14:46:40.594937Z",
     "iopub.status.busy": "2024-09-14T14:46:40.594207Z",
     "iopub.status.idle": "2024-09-14T14:46:40.605011Z",
     "shell.execute_reply": "2024-09-14T14:46:40.604007Z"
    },
    "papermill": {
     "duration": 0.023169,
     "end_time": "2024-09-14T14:46:40.607504",
     "exception": false,
     "start_time": "2024-09-14T14:46:40.584335",
     "status": "completed"
    },
    "tags": []
   },
   "outputs": [
    {
     "data": {
      "text/plain": [
       "condition\n",
       "Diabetic     0.6013\n",
       "Pneumonia    0.2527\n",
       "Cancer       0.1460\n",
       "Name: proportion, dtype: float64"
      ]
     },
     "execution_count": 8,
     "metadata": {},
     "output_type": "execute_result"
    }
   ],
   "source": [
    "df['condition'].value_counts(normalize=True)"
   ]
  },
  {
   "cell_type": "code",
   "execution_count": 9,
   "id": "60586114",
   "metadata": {
    "execution": {
     "iopub.execute_input": "2024-09-14T14:46:40.627044Z",
     "iopub.status.busy": "2024-09-14T14:46:40.626595Z",
     "iopub.status.idle": "2024-09-14T14:46:40.651804Z",
     "shell.execute_reply": "2024-09-14T14:46:40.650563Z"
    },
    "papermill": {
     "duration": 0.038119,
     "end_time": "2024-09-14T14:46:40.654431",
     "exception": false,
     "start_time": "2024-09-14T14:46:40.616312",
     "status": "completed"
    },
    "tags": []
   },
   "outputs": [
    {
     "data": {
      "text/html": [
       "<div>\n",
       "<style scoped>\n",
       "    .dataframe tbody tr th:only-of-type {\n",
       "        vertical-align: middle;\n",
       "    }\n",
       "\n",
       "    .dataframe tbody tr th {\n",
       "        vertical-align: top;\n",
       "    }\n",
       "\n",
       "    .dataframe thead th {\n",
       "        text-align: right;\n",
       "    }\n",
       "</style>\n",
       "<table border=\"1\" class=\"dataframe\">\n",
       "  <thead>\n",
       "    <tr style=\"text-align: right;\">\n",
       "      <th></th>\n",
       "      <th>gender</th>\n",
       "      <th>smoking_status</th>\n",
       "      <th>condition</th>\n",
       "      <th>count</th>\n",
       "    </tr>\n",
       "  </thead>\n",
       "  <tbody>\n",
       "    <tr>\n",
       "      <th>0</th>\n",
       "      <td>male</td>\n",
       "      <td>Non-Smoker</td>\n",
       "      <td>Diabetic</td>\n",
       "      <td>4596</td>\n",
       "    </tr>\n",
       "    <tr>\n",
       "      <th>1</th>\n",
       "      <td>male</td>\n",
       "      <td>Non-Smoker</td>\n",
       "      <td>Pneumonia</td>\n",
       "      <td>1924</td>\n",
       "    </tr>\n",
       "    <tr>\n",
       "      <th>2</th>\n",
       "      <td>male</td>\n",
       "      <td>Non-Smoker</td>\n",
       "      <td>Cancer</td>\n",
       "      <td>1128</td>\n",
       "    </tr>\n",
       "    <tr>\n",
       "      <th>3</th>\n",
       "      <td>female</td>\n",
       "      <td>Non-Smoker</td>\n",
       "      <td>Diabetic</td>\n",
       "      <td>814</td>\n",
       "    </tr>\n",
       "    <tr>\n",
       "      <th>4</th>\n",
       "      <td>male</td>\n",
       "      <td>Smoker</td>\n",
       "      <td>Diabetic</td>\n",
       "      <td>524</td>\n",
       "    </tr>\n",
       "    <tr>\n",
       "      <th>5</th>\n",
       "      <td>female</td>\n",
       "      <td>Non-Smoker</td>\n",
       "      <td>Pneumonia</td>\n",
       "      <td>357</td>\n",
       "    </tr>\n",
       "    <tr>\n",
       "      <th>6</th>\n",
       "      <td>male</td>\n",
       "      <td>Smoker</td>\n",
       "      <td>Pneumonia</td>\n",
       "      <td>212</td>\n",
       "    </tr>\n",
       "    <tr>\n",
       "      <th>7</th>\n",
       "      <td>female</td>\n",
       "      <td>Non-Smoker</td>\n",
       "      <td>Cancer</td>\n",
       "      <td>195</td>\n",
       "    </tr>\n",
       "    <tr>\n",
       "      <th>8</th>\n",
       "      <td>male</td>\n",
       "      <td>Smoker</td>\n",
       "      <td>Cancer</td>\n",
       "      <td>122</td>\n",
       "    </tr>\n",
       "    <tr>\n",
       "      <th>9</th>\n",
       "      <td>female</td>\n",
       "      <td>Smoker</td>\n",
       "      <td>Diabetic</td>\n",
       "      <td>79</td>\n",
       "    </tr>\n",
       "    <tr>\n",
       "      <th>10</th>\n",
       "      <td>female</td>\n",
       "      <td>Smoker</td>\n",
       "      <td>Pneumonia</td>\n",
       "      <td>34</td>\n",
       "    </tr>\n",
       "    <tr>\n",
       "      <th>11</th>\n",
       "      <td>female</td>\n",
       "      <td>Smoker</td>\n",
       "      <td>Cancer</td>\n",
       "      <td>15</td>\n",
       "    </tr>\n",
       "  </tbody>\n",
       "</table>\n",
       "</div>"
      ],
      "text/plain": [
       "    gender smoking_status  condition  count\n",
       "0     male     Non-Smoker   Diabetic   4596\n",
       "1     male     Non-Smoker  Pneumonia   1924\n",
       "2     male     Non-Smoker     Cancer   1128\n",
       "3   female     Non-Smoker   Diabetic    814\n",
       "4     male         Smoker   Diabetic    524\n",
       "5   female     Non-Smoker  Pneumonia    357\n",
       "6     male         Smoker  Pneumonia    212\n",
       "7   female     Non-Smoker     Cancer    195\n",
       "8     male         Smoker     Cancer    122\n",
       "9   female         Smoker   Diabetic     79\n",
       "10  female         Smoker  Pneumonia     34\n",
       "11  female         Smoker     Cancer     15"
      ]
     },
     "execution_count": 9,
     "metadata": {},
     "output_type": "execute_result"
    }
   ],
   "source": [
    "df[['gender', 'smoking_status', 'condition']].value_counts().reset_index()"
   ]
  },
  {
   "cell_type": "code",
   "execution_count": 10,
   "id": "24986725",
   "metadata": {
    "execution": {
     "iopub.execute_input": "2024-09-14T14:46:40.675410Z",
     "iopub.status.busy": "2024-09-14T14:46:40.674420Z",
     "iopub.status.idle": "2024-09-14T14:46:40.706138Z",
     "shell.execute_reply": "2024-09-14T14:46:40.705043Z"
    },
    "papermill": {
     "duration": 0.044929,
     "end_time": "2024-09-14T14:46:40.708690",
     "exception": false,
     "start_time": "2024-09-14T14:46:40.663761",
     "status": "completed"
    },
    "tags": []
   },
   "outputs": [
    {
     "data": {
      "text/html": [
       "<div>\n",
       "<style scoped>\n",
       "    .dataframe tbody tr th:only-of-type {\n",
       "        vertical-align: middle;\n",
       "    }\n",
       "\n",
       "    .dataframe tbody tr th {\n",
       "        vertical-align: top;\n",
       "    }\n",
       "\n",
       "    .dataframe thead th {\n",
       "        text-align: right;\n",
       "    }\n",
       "</style>\n",
       "<table border=\"1\" class=\"dataframe\">\n",
       "  <thead>\n",
       "    <tr style=\"text-align: right;\">\n",
       "      <th></th>\n",
       "      <th>gender</th>\n",
       "      <th>smoking_status</th>\n",
       "      <th>condition</th>\n",
       "      <th>count</th>\n",
       "    </tr>\n",
       "  </thead>\n",
       "  <tbody>\n",
       "    <tr>\n",
       "      <th>0</th>\n",
       "      <td>female</td>\n",
       "      <td>Non-Smoker</td>\n",
       "      <td>Diabetic</td>\n",
       "      <td>814</td>\n",
       "    </tr>\n",
       "    <tr>\n",
       "      <th>1</th>\n",
       "      <td>female</td>\n",
       "      <td>Non-Smoker</td>\n",
       "      <td>Pneumonia</td>\n",
       "      <td>357</td>\n",
       "    </tr>\n",
       "    <tr>\n",
       "      <th>2</th>\n",
       "      <td>female</td>\n",
       "      <td>Non-Smoker</td>\n",
       "      <td>Cancer</td>\n",
       "      <td>195</td>\n",
       "    </tr>\n",
       "    <tr>\n",
       "      <th>3</th>\n",
       "      <td>female</td>\n",
       "      <td>Smoker</td>\n",
       "      <td>Diabetic</td>\n",
       "      <td>79</td>\n",
       "    </tr>\n",
       "    <tr>\n",
       "      <th>4</th>\n",
       "      <td>female</td>\n",
       "      <td>Smoker</td>\n",
       "      <td>Pneumonia</td>\n",
       "      <td>34</td>\n",
       "    </tr>\n",
       "    <tr>\n",
       "      <th>5</th>\n",
       "      <td>female</td>\n",
       "      <td>Smoker</td>\n",
       "      <td>Cancer</td>\n",
       "      <td>15</td>\n",
       "    </tr>\n",
       "    <tr>\n",
       "      <th>6</th>\n",
       "      <td>male</td>\n",
       "      <td>Non-Smoker</td>\n",
       "      <td>Diabetic</td>\n",
       "      <td>4596</td>\n",
       "    </tr>\n",
       "    <tr>\n",
       "      <th>7</th>\n",
       "      <td>male</td>\n",
       "      <td>Non-Smoker</td>\n",
       "      <td>Pneumonia</td>\n",
       "      <td>1924</td>\n",
       "    </tr>\n",
       "    <tr>\n",
       "      <th>8</th>\n",
       "      <td>male</td>\n",
       "      <td>Non-Smoker</td>\n",
       "      <td>Cancer</td>\n",
       "      <td>1128</td>\n",
       "    </tr>\n",
       "    <tr>\n",
       "      <th>9</th>\n",
       "      <td>male</td>\n",
       "      <td>Smoker</td>\n",
       "      <td>Diabetic</td>\n",
       "      <td>524</td>\n",
       "    </tr>\n",
       "    <tr>\n",
       "      <th>10</th>\n",
       "      <td>male</td>\n",
       "      <td>Smoker</td>\n",
       "      <td>Pneumonia</td>\n",
       "      <td>212</td>\n",
       "    </tr>\n",
       "    <tr>\n",
       "      <th>11</th>\n",
       "      <td>male</td>\n",
       "      <td>Smoker</td>\n",
       "      <td>Cancer</td>\n",
       "      <td>122</td>\n",
       "    </tr>\n",
       "  </tbody>\n",
       "</table>\n",
       "</div>"
      ],
      "text/plain": [
       "    gender smoking_status  condition  count\n",
       "0   female     Non-Smoker   Diabetic    814\n",
       "1   female     Non-Smoker  Pneumonia    357\n",
       "2   female     Non-Smoker     Cancer    195\n",
       "3   female         Smoker   Diabetic     79\n",
       "4   female         Smoker  Pneumonia     34\n",
       "5   female         Smoker     Cancer     15\n",
       "6     male     Non-Smoker   Diabetic   4596\n",
       "7     male     Non-Smoker  Pneumonia   1924\n",
       "8     male     Non-Smoker     Cancer   1128\n",
       "9     male         Smoker   Diabetic    524\n",
       "10    male         Smoker  Pneumonia    212\n",
       "11    male         Smoker     Cancer    122"
      ]
     },
     "execution_count": 10,
     "metadata": {},
     "output_type": "execute_result"
    }
   ],
   "source": [
    "df.groupby('gender')[['smoking_status', 'condition']].value_counts().reset_index()"
   ]
  },
  {
   "cell_type": "code",
   "execution_count": 11,
   "id": "e24fb827",
   "metadata": {
    "execution": {
     "iopub.execute_input": "2024-09-14T14:46:40.729901Z",
     "iopub.status.busy": "2024-09-14T14:46:40.729458Z",
     "iopub.status.idle": "2024-09-14T14:46:40.752174Z",
     "shell.execute_reply": "2024-09-14T14:46:40.750935Z"
    },
    "papermill": {
     "duration": 0.036366,
     "end_time": "2024-09-14T14:46:40.754718",
     "exception": false,
     "start_time": "2024-09-14T14:46:40.718352",
     "status": "completed"
    },
    "tags": []
   },
   "outputs": [
    {
     "data": {
      "text/html": [
       "<div>\n",
       "<style scoped>\n",
       "    .dataframe tbody tr th:only-of-type {\n",
       "        vertical-align: middle;\n",
       "    }\n",
       "\n",
       "    .dataframe tbody tr th {\n",
       "        vertical-align: top;\n",
       "    }\n",
       "\n",
       "    .dataframe thead th {\n",
       "        text-align: right;\n",
       "    }\n",
       "</style>\n",
       "<table border=\"1\" class=\"dataframe\">\n",
       "  <thead>\n",
       "    <tr style=\"text-align: right;\">\n",
       "      <th></th>\n",
       "      <th>gender</th>\n",
       "      <th>condition</th>\n",
       "      <th>count</th>\n",
       "    </tr>\n",
       "  </thead>\n",
       "  <tbody>\n",
       "    <tr>\n",
       "      <th>0</th>\n",
       "      <td>female</td>\n",
       "      <td>Diabetic</td>\n",
       "      <td>893</td>\n",
       "    </tr>\n",
       "    <tr>\n",
       "      <th>1</th>\n",
       "      <td>female</td>\n",
       "      <td>Pneumonia</td>\n",
       "      <td>391</td>\n",
       "    </tr>\n",
       "    <tr>\n",
       "      <th>2</th>\n",
       "      <td>female</td>\n",
       "      <td>Cancer</td>\n",
       "      <td>210</td>\n",
       "    </tr>\n",
       "    <tr>\n",
       "      <th>3</th>\n",
       "      <td>male</td>\n",
       "      <td>Diabetic</td>\n",
       "      <td>5120</td>\n",
       "    </tr>\n",
       "    <tr>\n",
       "      <th>4</th>\n",
       "      <td>male</td>\n",
       "      <td>Pneumonia</td>\n",
       "      <td>2136</td>\n",
       "    </tr>\n",
       "    <tr>\n",
       "      <th>5</th>\n",
       "      <td>male</td>\n",
       "      <td>Cancer</td>\n",
       "      <td>1250</td>\n",
       "    </tr>\n",
       "  </tbody>\n",
       "</table>\n",
       "</div>"
      ],
      "text/plain": [
       "   gender  condition  count\n",
       "0  female   Diabetic    893\n",
       "1  female  Pneumonia    391\n",
       "2  female     Cancer    210\n",
       "3    male   Diabetic   5120\n",
       "4    male  Pneumonia   2136\n",
       "5    male     Cancer   1250"
      ]
     },
     "execution_count": 11,
     "metadata": {},
     "output_type": "execute_result"
    }
   ],
   "source": [
    "df.groupby(\"gender\")[[\"condition\"]].value_counts().reset_index()"
   ]
  },
  {
   "cell_type": "code",
   "execution_count": 12,
   "id": "4113c0b1",
   "metadata": {
    "execution": {
     "iopub.execute_input": "2024-09-14T14:46:40.776851Z",
     "iopub.status.busy": "2024-09-14T14:46:40.775744Z",
     "iopub.status.idle": "2024-09-14T14:46:40.797854Z",
     "shell.execute_reply": "2024-09-14T14:46:40.796706Z"
    },
    "papermill": {
     "duration": 0.03593,
     "end_time": "2024-09-14T14:46:40.800514",
     "exception": false,
     "start_time": "2024-09-14T14:46:40.764584",
     "status": "completed"
    },
    "tags": []
   },
   "outputs": [
    {
     "data": {
      "text/html": [
       "<div>\n",
       "<style scoped>\n",
       "    .dataframe tbody tr th:only-of-type {\n",
       "        vertical-align: middle;\n",
       "    }\n",
       "\n",
       "    .dataframe tbody tr th {\n",
       "        vertical-align: top;\n",
       "    }\n",
       "\n",
       "    .dataframe thead th {\n",
       "        text-align: right;\n",
       "    }\n",
       "</style>\n",
       "<table border=\"1\" class=\"dataframe\">\n",
       "  <thead>\n",
       "    <tr style=\"text-align: right;\">\n",
       "      <th></th>\n",
       "      <th>smoking_status</th>\n",
       "      <th>condition</th>\n",
       "      <th>count</th>\n",
       "    </tr>\n",
       "  </thead>\n",
       "  <tbody>\n",
       "    <tr>\n",
       "      <th>0</th>\n",
       "      <td>Non-Smoker</td>\n",
       "      <td>Diabetic</td>\n",
       "      <td>5410</td>\n",
       "    </tr>\n",
       "    <tr>\n",
       "      <th>1</th>\n",
       "      <td>Non-Smoker</td>\n",
       "      <td>Pneumonia</td>\n",
       "      <td>2281</td>\n",
       "    </tr>\n",
       "    <tr>\n",
       "      <th>2</th>\n",
       "      <td>Non-Smoker</td>\n",
       "      <td>Cancer</td>\n",
       "      <td>1323</td>\n",
       "    </tr>\n",
       "    <tr>\n",
       "      <th>3</th>\n",
       "      <td>Smoker</td>\n",
       "      <td>Diabetic</td>\n",
       "      <td>603</td>\n",
       "    </tr>\n",
       "    <tr>\n",
       "      <th>4</th>\n",
       "      <td>Smoker</td>\n",
       "      <td>Pneumonia</td>\n",
       "      <td>246</td>\n",
       "    </tr>\n",
       "    <tr>\n",
       "      <th>5</th>\n",
       "      <td>Smoker</td>\n",
       "      <td>Cancer</td>\n",
       "      <td>137</td>\n",
       "    </tr>\n",
       "  </tbody>\n",
       "</table>\n",
       "</div>"
      ],
      "text/plain": [
       "  smoking_status  condition  count\n",
       "0     Non-Smoker   Diabetic   5410\n",
       "1     Non-Smoker  Pneumonia   2281\n",
       "2     Non-Smoker     Cancer   1323\n",
       "3         Smoker   Diabetic    603\n",
       "4         Smoker  Pneumonia    246\n",
       "5         Smoker     Cancer    137"
      ]
     },
     "execution_count": 12,
     "metadata": {},
     "output_type": "execute_result"
    }
   ],
   "source": [
    "df.groupby(\"smoking_status\")[['condition']].value_counts().reset_index()"
   ]
  },
  {
   "cell_type": "code",
   "execution_count": 13,
   "id": "f9ce65d9",
   "metadata": {
    "execution": {
     "iopub.execute_input": "2024-09-14T14:46:40.822232Z",
     "iopub.status.busy": "2024-09-14T14:46:40.821757Z",
     "iopub.status.idle": "2024-09-14T14:46:41.150691Z",
     "shell.execute_reply": "2024-09-14T14:46:41.149420Z"
    },
    "papermill": {
     "duration": 0.342936,
     "end_time": "2024-09-14T14:46:41.153493",
     "exception": false,
     "start_time": "2024-09-14T14:46:40.810557",
     "status": "completed"
    },
    "tags": []
   },
   "outputs": [
    {
     "data": {
      "image/png": "[encoded data removed]",
      "text/plain": [
       "<Figure size 1200x600 with 1 Axes>"
      ]
     },
     "metadata": {},
     "output_type": "display_data"
    }
   ],
   "source": [
    "plt.figure(figsize=(12, 6))\n",
    "sns.countplot(x =\"condition\", data=df, hue=\"gender\")\n",
    "plt.show()"
   ]
  },
  {
   "cell_type": "code",
   "execution_count": 14,
   "id": "99c812ee",
   "metadata": {
    "execution": {
     "iopub.execute_input": "2024-09-14T14:46:41.176311Z",
     "iopub.status.busy": "2024-09-14T14:46:41.175881Z",
     "iopub.status.idle": "2024-09-14T14:46:41.472889Z",
     "shell.execute_reply": "2024-09-14T14:46:41.471701Z"
    },
    "papermill": {
     "duration": 0.31142,
     "end_time": "2024-09-14T14:46:41.475506",
     "exception": false,
     "start_time": "2024-09-14T14:46:41.164086",
     "status": "completed"
    },
    "tags": []
   },
   "outputs": [
    {
     "data": {
      "image/png": "[encoded data removed]",
      "text/plain": [
       "<Figure size 1200x600 with 1 Axes>"
      ]
     },
     "metadata": {},
     "output_type": "display_data"
    }
   ],
   "source": [
    "plt.figure(figsize=(12, 6))\n",
    "sns.countplot(x=\"condition\", data=df, hue=\"smoking_status\")\n",
    "plt.show()"
   ]
  },
  {
   "cell_type": "markdown",
   "id": "ea18ae39",
   "metadata": {
    "papermill": {
     "duration": 0.010624,
     "end_time": "2024-09-14T14:46:41.497092",
     "exception": false,
     "start_time": "2024-09-14T14:46:41.486468",
     "status": "completed"
    },
    "tags": []
   },
   "source": [
    "## we noticed that the count of males and NON smokers with pneumonia, Diabetic, cancer are more than Females"
   ]
  },
  {
   "cell_type": "code",
   "execution_count": 15,
   "id": "e5a9a9c3",
   "metadata": {
    "execution": {
     "iopub.execute_input": "2024-09-14T14:46:41.521479Z",
     "iopub.status.busy": "2024-09-14T14:46:41.520528Z",
     "iopub.status.idle": "2024-09-14T14:46:49.843960Z",
     "shell.execute_reply": "2024-09-14T14:46:49.842972Z"
    },
    "papermill": {
     "duration": 8.338508,
     "end_time": "2024-09-14T14:46:49.846743",
     "exception": false,
     "start_time": "2024-09-14T14:46:41.508235",
     "status": "completed"
    },
    "tags": []
   },
   "outputs": [],
   "source": [
    "knn_imputer = KNNImputer(n_neighbors=2, weights=\"uniform\")\n",
    "\n",
    "df['age'] = knn_imputer.fit_transform(df[['age']])\n",
    "df['bmi'] = knn_imputer.fit_transform(df[['bmi']])\n",
    "df['blood_pressure'] = knn_imputer.fit_transform(df[['blood_pressure']])\n",
    "df['glucose_levels'] = knn_imputer.fit_transform(df[['glucose_levels']])"
   ]
  },
  {
   "cell_type": "code",
   "execution_count": 16,
   "id": "7c9454bd",
   "metadata": {
    "execution": {
     "iopub.execute_input": "2024-09-14T14:46:49.870197Z",
     "iopub.status.busy": "2024-09-14T14:46:49.869735Z",
     "iopub.status.idle": "2024-09-14T14:46:49.886306Z",
     "shell.execute_reply": "2024-09-14T14:46:49.885167Z"
    },
    "papermill": {
     "duration": 0.03133,
     "end_time": "2024-09-14T14:46:49.888910",
     "exception": false,
     "start_time": "2024-09-14T14:46:49.857580",
     "status": "completed"
    },
    "tags": []
   },
   "outputs": [
    {
     "data": {
      "text/html": [
       "<div>\n",
       "<style scoped>\n",
       "    .dataframe tbody tr th:only-of-type {\n",
       "        vertical-align: middle;\n",
       "    }\n",
       "\n",
       "    .dataframe tbody tr th {\n",
       "        vertical-align: top;\n",
       "    }\n",
       "\n",
       "    .dataframe thead th {\n",
       "        text-align: right;\n",
       "    }\n",
       "</style>\n",
       "<table border=\"1\" class=\"dataframe\">\n",
       "  <thead>\n",
       "    <tr style=\"text-align: right;\">\n",
       "      <th></th>\n",
       "      <th>id</th>\n",
       "      <th>full_name</th>\n",
       "      <th>age</th>\n",
       "      <th>gender</th>\n",
       "      <th>smoking_status</th>\n",
       "      <th>bmi</th>\n",
       "      <th>blood_pressure</th>\n",
       "      <th>glucose_levels</th>\n",
       "      <th>condition</th>\n",
       "    </tr>\n",
       "  </thead>\n",
       "  <tbody>\n",
       "    <tr>\n",
       "      <th>0</th>\n",
       "      <td>1</td>\n",
       "      <td>User0001</td>\n",
       "      <td>53.541598</td>\n",
       "      <td>male</td>\n",
       "      <td>Non-Smoker</td>\n",
       "      <td>27.423420</td>\n",
       "      <td>135.209429</td>\n",
       "      <td>135.219608</td>\n",
       "      <td>Pneumonia</td>\n",
       "    </tr>\n",
       "    <tr>\n",
       "      <th>1</th>\n",
       "      <td>2</td>\n",
       "      <td>User0002</td>\n",
       "      <td>30.000000</td>\n",
       "      <td>male</td>\n",
       "      <td>Non-Smoker</td>\n",
       "      <td>27.423420</td>\n",
       "      <td>105.315064</td>\n",
       "      <td>135.219608</td>\n",
       "      <td>Diabetic</td>\n",
       "    </tr>\n",
       "    <tr>\n",
       "      <th>2</th>\n",
       "      <td>3</td>\n",
       "      <td>User0003</td>\n",
       "      <td>18.000000</td>\n",
       "      <td>male</td>\n",
       "      <td>Non-Smoker</td>\n",
       "      <td>35.612486</td>\n",
       "      <td>135.209429</td>\n",
       "      <td>135.219608</td>\n",
       "      <td>Pneumonia</td>\n",
       "    </tr>\n",
       "    <tr>\n",
       "      <th>3</th>\n",
       "      <td>4</td>\n",
       "      <td>User0004</td>\n",
       "      <td>53.541598</td>\n",
       "      <td>male</td>\n",
       "      <td>Non-Smoker</td>\n",
       "      <td>27.423420</td>\n",
       "      <td>99.119829</td>\n",
       "      <td>135.219608</td>\n",
       "      <td>Pneumonia</td>\n",
       "    </tr>\n",
       "    <tr>\n",
       "      <th>4</th>\n",
       "      <td>5</td>\n",
       "      <td>User0005</td>\n",
       "      <td>76.000000</td>\n",
       "      <td>male</td>\n",
       "      <td>Non-Smoker</td>\n",
       "      <td>27.423420</td>\n",
       "      <td>135.209429</td>\n",
       "      <td>135.219608</td>\n",
       "      <td>Diabetic</td>\n",
       "    </tr>\n",
       "  </tbody>\n",
       "</table>\n",
       "</div>"
      ],
      "text/plain": [
       "   id full_name        age gender smoking_status        bmi  blood_pressure  \\\n",
       "0   1  User0001  53.541598   male     Non-Smoker  27.423420      135.209429   \n",
       "1   2  User0002  30.000000   male     Non-Smoker  27.423420      105.315064   \n",
       "2   3  User0003  18.000000   male     Non-Smoker  35.612486      135.209429   \n",
       "3   4  User0004  53.541598   male     Non-Smoker  27.423420       99.119829   \n",
       "4   5  User0005  76.000000   male     Non-Smoker  27.423420      135.209429   \n",
       "\n",
       "   glucose_levels  condition  \n",
       "0      135.219608  Pneumonia  \n",
       "1      135.219608   Diabetic  \n",
       "2      135.219608  Pneumonia  \n",
       "3      135.219608  Pneumonia  \n",
       "4      135.219608   Diabetic  "
      ]
     },
     "execution_count": 16,
     "metadata": {},
     "output_type": "execute_result"
    }
   ],
   "source": [
    "df.head()"
   ]
  },
  {
   "cell_type": "code",
   "execution_count": 17,
   "id": "ea544bf3",
   "metadata": {
    "execution": {
     "iopub.execute_input": "2024-09-14T14:46:49.913797Z",
     "iopub.status.busy": "2024-09-14T14:46:49.913327Z",
     "iopub.status.idle": "2024-09-14T14:46:49.928660Z",
     "shell.execute_reply": "2024-09-14T14:46:49.927431Z"
    },
    "papermill": {
     "duration": 0.030462,
     "end_time": "2024-09-14T14:46:49.931114",
     "exception": false,
     "start_time": "2024-09-14T14:46:49.900652",
     "status": "completed"
    },
    "tags": []
   },
   "outputs": [
    {
     "data": {
      "text/plain": [
       "id                0\n",
       "full_name         0\n",
       "age               0\n",
       "gender            0\n",
       "smoking_status    0\n",
       "bmi               0\n",
       "blood_pressure    0\n",
       "glucose_levels    0\n",
       "condition         0\n",
       "dtype: int64"
      ]
     },
     "execution_count": 17,
     "metadata": {},
     "output_type": "execute_result"
    }
   ],
   "source": [
    "df.isnull().sum()"
   ]
  },
  {
   "cell_type": "code",
   "execution_count": 18,
   "id": "7adec39a",
   "metadata": {
    "execution": {
     "iopub.execute_input": "2024-09-14T14:46:49.956138Z",
     "iopub.status.busy": "2024-09-14T14:46:49.955652Z",
     "iopub.status.idle": "2024-09-14T14:46:49.976644Z",
     "shell.execute_reply": "2024-09-14T14:46:49.975591Z"
    },
    "papermill": {
     "duration": 0.037005,
     "end_time": "2024-09-14T14:46:49.979540",
     "exception": false,
     "start_time": "2024-09-14T14:46:49.942535",
     "status": "completed"
    },
    "tags": []
   },
   "outputs": [],
   "source": [
    "df_agg = df.groupby('condition')[['age', 'blood_pressure','bmi', 'glucose_levels']].agg([\"mean\", \"min\", \"max\"])\n",
    "df_agg.columns = [\"_\".join(c) for c in df_agg.columns]"
   ]
  },
  {
   "cell_type": "code",
   "execution_count": 19,
   "id": "4ce8dd5d",
   "metadata": {
    "execution": {
     "iopub.execute_input": "2024-09-14T14:46:50.004444Z",
     "iopub.status.busy": "2024-09-14T14:46:50.003964Z",
     "iopub.status.idle": "2024-09-14T14:46:50.122943Z",
     "shell.execute_reply": "2024-09-14T14:46:50.121674Z"
    },
    "papermill": {
     "duration": 0.134576,
     "end_time": "2024-09-14T14:46:50.125647",
     "exception": false,
     "start_time": "2024-09-14T14:46:49.991071",
     "status": "completed"
    },
    "tags": []
   },
   "outputs": [
    {
     "data": {
      "text/html": [
       "<style type=\"text/css\">\n",
       "#T_25fdd_row0_col0, #T_25fdd_row0_col1, #T_25fdd_row0_col2, #T_25fdd_row0_col8, #T_25fdd_row0_col9, #T_25fdd_row0_col11, #T_25fdd_row1_col1, #T_25fdd_row1_col2, #T_25fdd_row1_col4, #T_25fdd_row1_col5, #T_25fdd_row1_col6, #T_25fdd_row1_col7, #T_25fdd_row2_col1, #T_25fdd_row2_col2, #T_25fdd_row2_col3, #T_25fdd_row2_col10 {\n",
       "  background-color: #f7fbff;\n",
       "  color: #000000;\n",
       "}\n",
       "#T_25fdd_row0_col3, #T_25fdd_row0_col5, #T_25fdd_row0_col6, #T_25fdd_row0_col7, #T_25fdd_row0_col10, #T_25fdd_row1_col0, #T_25fdd_row1_col8, #T_25fdd_row1_col9, #T_25fdd_row1_col11, #T_25fdd_row2_col4 {\n",
       "  background-color: #08306b;\n",
       "  color: #f1f1f1;\n",
       "}\n",
       "#T_25fdd_row0_col4 {\n",
       "  background-color: #58a1cf;\n",
       "  color: #f1f1f1;\n",
       "}\n",
       "#T_25fdd_row1_col3 {\n",
       "  background-color: #e9f2fa;\n",
       "  color: #000000;\n",
       "}\n",
       "#T_25fdd_row1_col10 {\n",
       "  background-color: #f5f9fe;\n",
       "  color: #000000;\n",
       "}\n",
       "#T_25fdd_row2_col0 {\n",
       "  background-color: #2474b7;\n",
       "  color: #f1f1f1;\n",
       "}\n",
       "#T_25fdd_row2_col5 {\n",
       "  background-color: #b9d6ea;\n",
       "  color: #000000;\n",
       "}\n",
       "#T_25fdd_row2_col6 {\n",
       "  background-color: #b2d2e8;\n",
       "  color: #000000;\n",
       "}\n",
       "#T_25fdd_row2_col7 {\n",
       "  background-color: #549fcd;\n",
       "  color: #f1f1f1;\n",
       "}\n",
       "#T_25fdd_row2_col8 {\n",
       "  background-color: #3484bf;\n",
       "  color: #f1f1f1;\n",
       "}\n",
       "#T_25fdd_row2_col9 {\n",
       "  background-color: #0e59a2;\n",
       "  color: #f1f1f1;\n",
       "}\n",
       "#T_25fdd_row2_col11 {\n",
       "  background-color: #084d96;\n",
       "  color: #f1f1f1;\n",
       "}\n",
       "</style>\n",
       "<table id=\"T_25fdd\">\n",
       "  <thead>\n",
       "    <tr>\n",
       "      <th class=\"blank level0\" >&nbsp;</th>\n",
       "      <th id=\"T_25fdd_level0_col0\" class=\"col_heading level0 col0\" >age_mean</th>\n",
       "      <th id=\"T_25fdd_level0_col1\" class=\"col_heading level0 col1\" >age_min</th>\n",
       "      <th id=\"T_25fdd_level0_col2\" class=\"col_heading level0 col2\" >age_max</th>\n",
       "      <th id=\"T_25fdd_level0_col3\" class=\"col_heading level0 col3\" >blood_pressure_mean</th>\n",
       "      <th id=\"T_25fdd_level0_col4\" class=\"col_heading level0 col4\" >blood_pressure_min</th>\n",
       "      <th id=\"T_25fdd_level0_col5\" class=\"col_heading level0 col5\" >blood_pressure_max</th>\n",
       "      <th id=\"T_25fdd_level0_col6\" class=\"col_heading level0 col6\" >bmi_mean</th>\n",
       "      <th id=\"T_25fdd_level0_col7\" class=\"col_heading level0 col7\" >bmi_min</th>\n",
       "      <th id=\"T_25fdd_level0_col8\" class=\"col_heading level0 col8\" >bmi_max</th>\n",
       "      <th id=\"T_25fdd_level0_col9\" class=\"col_heading level0 col9\" >glucose_levels_mean</th>\n",
       "      <th id=\"T_25fdd_level0_col10\" class=\"col_heading level0 col10\" >glucose_levels_min</th>\n",
       "      <th id=\"T_25fdd_level0_col11\" class=\"col_heading level0 col11\" >glucose_levels_max</th>\n",
       "    </tr>\n",
       "    <tr>\n",
       "      <th class=\"index_name level0\" >condition</th>\n",
       "      <th class=\"blank col0\" >&nbsp;</th>\n",
       "      <th class=\"blank col1\" >&nbsp;</th>\n",
       "      <th class=\"blank col2\" >&nbsp;</th>\n",
       "      <th class=\"blank col3\" >&nbsp;</th>\n",
       "      <th class=\"blank col4\" >&nbsp;</th>\n",
       "      <th class=\"blank col5\" >&nbsp;</th>\n",
       "      <th class=\"blank col6\" >&nbsp;</th>\n",
       "      <th class=\"blank col7\" >&nbsp;</th>\n",
       "      <th class=\"blank col8\" >&nbsp;</th>\n",
       "      <th class=\"blank col9\" >&nbsp;</th>\n",
       "      <th class=\"blank col10\" >&nbsp;</th>\n",
       "      <th class=\"blank col11\" >&nbsp;</th>\n",
       "    </tr>\n",
       "  </thead>\n",
       "  <tbody>\n",
       "    <tr>\n",
       "      <th id=\"T_25fdd_level0_row0\" class=\"row_heading level0 row0\" >Cancer</th>\n",
       "      <td id=\"T_25fdd_row0_col0\" class=\"data row0 col0\" >52.575654</td>\n",
       "      <td id=\"T_25fdd_row0_col1\" class=\"data row0 col1\" >18.000000</td>\n",
       "      <td id=\"T_25fdd_row0_col2\" class=\"data row0 col2\" >89.000000</td>\n",
       "      <td id=\"T_25fdd_row0_col3\" class=\"data row0 col3\" >135.461638</td>\n",
       "      <td id=\"T_25fdd_row0_col4\" class=\"data row0 col4\" >90.069975</td>\n",
       "      <td id=\"T_25fdd_row0_col5\" class=\"data row0 col5\" >179.999359</td>\n",
       "      <td id=\"T_25fdd_row0_col6\" class=\"data row0 col6\" >27.599140</td>\n",
       "      <td id=\"T_25fdd_row0_col7\" class=\"data row0 col7\" >15.044370</td>\n",
       "      <td id=\"T_25fdd_row0_col8\" class=\"data row0 col8\" >39.908752</td>\n",
       "      <td id=\"T_25fdd_row0_col9\" class=\"data row0 col9\" >134.051394</td>\n",
       "      <td id=\"T_25fdd_row0_col10\" class=\"data row0 col10\" >70.566444</td>\n",
       "      <td id=\"T_25fdd_row0_col11\" class=\"data row0 col11\" >199.636991</td>\n",
       "    </tr>\n",
       "    <tr>\n",
       "      <th id=\"T_25fdd_level0_row1\" class=\"row_heading level0 row1\" >Diabetic</th>\n",
       "      <td id=\"T_25fdd_row1_col0\" class=\"data row1 col0\" >53.802785</td>\n",
       "      <td id=\"T_25fdd_row1_col1\" class=\"data row1 col1\" >18.000000</td>\n",
       "      <td id=\"T_25fdd_row1_col2\" class=\"data row1 col2\" >89.000000</td>\n",
       "      <td id=\"T_25fdd_row1_col3\" class=\"data row1 col3\" >135.173042</td>\n",
       "      <td id=\"T_25fdd_row1_col4\" class=\"data row1 col4\" >90.009620</td>\n",
       "      <td id=\"T_25fdd_row1_col5\" class=\"data row1 col5\" >179.949095</td>\n",
       "      <td id=\"T_25fdd_row1_col6\" class=\"data row1 col6\" >27.372296</td>\n",
       "      <td id=\"T_25fdd_row1_col7\" class=\"data row1 col7\" >15.012119</td>\n",
       "      <td id=\"T_25fdd_row1_col8\" class=\"data row1 col8\" >39.998687</td>\n",
       "      <td id=\"T_25fdd_row1_col9\" class=\"data row1 col9\" >135.487340</td>\n",
       "      <td id=\"T_25fdd_row1_col10\" class=\"data row1 col10\" >70.023115</td>\n",
       "      <td id=\"T_25fdd_row1_col11\" class=\"data row1 col11\" >199.890429</td>\n",
       "    </tr>\n",
       "    <tr>\n",
       "      <th id=\"T_25fdd_level0_row2\" class=\"row_heading level0 row2\" >Pneumonia</th>\n",
       "      <td id=\"T_25fdd_row2_col0\" class=\"data row2 col0\" >53.478187</td>\n",
       "      <td id=\"T_25fdd_row2_col1\" class=\"data row2 col1\" >18.000000</td>\n",
       "      <td id=\"T_25fdd_row2_col2\" class=\"data row2 col2\" >89.000000</td>\n",
       "      <td id=\"T_25fdd_row2_col3\" class=\"data row2 col3\" >135.150295</td>\n",
       "      <td id=\"T_25fdd_row2_col4\" class=\"data row2 col4\" >90.118260</td>\n",
       "      <td id=\"T_25fdd_row2_col5\" class=\"data row2 col5\" >179.963748</td>\n",
       "      <td id=\"T_25fdd_row2_col6\" class=\"data row2 col6\" >27.443546</td>\n",
       "      <td id=\"T_25fdd_row2_col7\" class=\"data row2 col7\" >15.030443</td>\n",
       "      <td id=\"T_25fdd_row2_col8\" class=\"data row2 col8\" >39.969824</td>\n",
       "      <td id=\"T_25fdd_row2_col9\" class=\"data row2 col9\" >135.257488</td>\n",
       "      <td id=\"T_25fdd_row2_col10\" class=\"data row2 col10\" >70.015961</td>\n",
       "      <td id=\"T_25fdd_row2_col11\" class=\"data row2 col11\" >199.861741</td>\n",
       "    </tr>\n",
       "  </tbody>\n",
       "</table>\n"
      ],
      "text/plain": [
       "<pandas.io.formats.style.Styler at 0x79473f71fc40>"
      ]
     },
     "execution_count": 19,
     "metadata": {},
     "output_type": "execute_result"
    }
   ],
   "source": [
    "df_agg.style.background_gradient(cmap='Blues')"
   ]
  },
  {
   "cell_type": "code",
   "execution_count": null,
   "id": "929d47d0",
   "metadata": {
    "papermill": {
     "duration": 0.011254,
     "end_time": "2024-09-14T14:46:50.148640",
     "exception": false,
     "start_time": "2024-09-14T14:46:50.137386",
     "status": "completed"
    },
    "tags": []
   },
   "outputs": [],
   "source": []
  }
 ],
 "metadata": {
  "kaggle": {
   "accelerator": "none",
   "dataSources": [
    {
     "datasetId": 5693639,
     "sourceId": 9385061,
     "sourceType": "datasetVersion"
    }
   ],
   "dockerImageVersionId": 30761,
   "isGpuEnabled": false,
   "isInternetEnabled": true,
   "language": "python",
   "sourceType": "notebook"
  },
  "kernelspec": {
   "display_name": "Python 3",
   "language": "python",
   "name": "python3"
  },
  "language_info": {
   "codemirror_mode": {
    "name": "ipython",
    "version": 3
   },
   "file_extension": ".py",
   "mimetype": "text/x-python",
   "name": "python",
   "nbconvert_exporter": "python",
   "pygments_lexer": "ipython3",
   "version": "3.10.14"
  },
  "papermill": {
   "default_parameters": {},
   "duration": 16.128471,
   "end_time": "2024-09-14T14:46:50.882120",
   "environment_variables": {},
   "exception": null,
   "input_path": "__notebook__.ipynb",
   "output_path": "__notebook__.ipynb",
   "parameters": {},
   "start_time": "2024-09-14T14:46:34.753649",
   "version": "2.6.0"
  }
 },
 "nbformat": 4,
 "nbformat_minor": 5
}
